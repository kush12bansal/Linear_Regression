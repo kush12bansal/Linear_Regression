{
 "cells": [
  {
   "cell_type": "code",
   "execution_count": 43,
   "metadata": {},
   "outputs": [],
   "source": [
    "import csv\n",
    "import numpy as np\n",
    "import matplotlib.pyplot as plt\n",
    "import math\n",
    "import time\n",
    "import copy\n"
   ]
  },
  {
   "cell_type": "code",
   "execution_count": 44,
   "metadata": {},
   "outputs": [],
   "source": [
    "x_train= []\n",
    "y_train= []\n",
    "with open('dataset2.csv', 'r') as file:\n",
    "    reader= csv.reader(file)\n",
    "    for row in reader:\n",
    "        # x_train.append([row[1][:8]] +row[3:])\n",
    "        x_train.append(row[:3])\n",
    "        y_train.append(row[3:])\n",
    "                    # print(i[j])\n",
    "                    # print(x_train)\n",
    "x_train = x_train[1:]\n",
    "y_train = y_train[1:]\n",
    "x_train= np.array(x_train)\n",
    "y_train = np.array(y_train).reshape(1,x_train.shape[0])\n",
    "x_train = x_train.T\n",
    "x_train = x_train.astype('float64')\n",
    "y_train = y_train.astype('float64')"
   ]
  },
  {
   "cell_type": "code",
   "execution_count": 45,
   "metadata": {},
   "outputs": [],
   "source": [
    "def compute_model_output(x,w,b):\n",
    "\n",
    "    f_wb= np.dot(w.T,x) + b\n",
    "    assert f_wb.shape == (1, x.shape[1])\n",
    "    return f_wb\n"
   ]
  },
  {
   "cell_type": "code",
   "execution_count": 46,
   "metadata": {},
   "outputs": [],
   "source": [
    "def derivative_cost(f_wb , x_train , y_train):\n",
    "    \n",
    "    m= x_train.shape[1]\n",
    "    dj_dw= 1/m * np.dot(x_train, (f_wb-y_train).T)\n",
    "    dj_db= 1/m * np.sum(f_wb-y_train)\n",
    "\n",
    "    return dj_db,dj_dw"
   ]
  },
  {
   "cell_type": "code",
   "execution_count": 47,
   "metadata": {},
   "outputs": [],
   "source": [
    "def cost(y_train, f_wb):\n",
    "    assert y_train.shape == f_wb.shape\n",
    "\n",
    "    m = y_train.shape[1]\n",
    "    cost = (np.sum((y_train - f_wb)**2))/(m*2)\n",
    "    return cost\n"
   ]
  },
  {
   "cell_type": "code",
   "execution_count": 48,
   "metadata": {},
   "outputs": [
    {
     "name": "stdout",
     "output_type": "stream",
     "text": [
      "4.5\n",
      "[[ 4.5]\n",
      " [10.5]\n",
      " [16.5]]\n"
     ]
    }
   ],
   "source": [
    "a = np.array([[100],[200]]).reshape(1,2)\n",
    "b = np.array([[103],[203]]).reshape(1,2)\n",
    "x = np.array([1,2,3,4,5,6]).reshape(3,2)\n",
    "\n",
    "print(cost(a,b))\n",
    "d, dj_dw = derivative_cost(b,x, a)\n",
    "print(dj_dw)"
   ]
  },
  {
   "cell_type": "code",
   "execution_count": 49,
   "metadata": {},
   "outputs": [],
   "source": [
    "def linear_regression_model(x_train, y_train, w_init, b_init, alpha, no_of_iterations):\n",
    "    w = w_init\n",
    "    b = b_init\n",
    "    for i in range(no_of_iterations):\n",
    "        m= x_train.shape[1]\n",
    "        f_wb = compute_model_output(x_train, w, b)\n",
    "        dj_db, dj_dw = derivative_cost(f_wb, x_train, y_train)\n",
    "        tmp_w = w - alpha*dj_dw\n",
    "        tmp_b = b - alpha*dj_db  \n",
    "        w, b = tmp_w, tmp_b\n",
    "  \n",
    "        \n",
    "    f_wb = compute_model_output(x_train,w,b)\n",
    "    return w, b\n",
    " "
   ]
  },
  {
   "cell_type": "code",
   "execution_count": 51,
   "metadata": {},
   "outputs": [
    {
     "name": "stdout",
     "output_type": "stream",
     "text": [
      "[[1.]\n",
      " [1.]\n",
      " [1.]] 0.0\n"
     ]
    }
   ],
   "source": [
    "# intialzing parameters\n",
    "w_init= np.ones((x_train.shape[0] , 1), dtype=float) \n",
    "b_init= 0\n",
    "\n",
    "\n",
    "# alpha = 10**(-15)\n",
    "\n",
    "# linear_regression_model(x_train, y_train, w_init, b_init, alpha, 1000000000)\n",
    "alpha = 0.00001\n",
    "\n",
    "w, b = linear_regression_model(x_train, y_train, w_init, b_init, alpha, 10000)\n",
    "\n",
    "print(w,b)\n",
    "\n",
    "#print(x_train[:,0])\n",
    "#print(x_train[:2,:1])"
   ]
  },
  {
   "cell_type": "code",
   "execution_count": null,
   "metadata": {},
   "outputs": [],
   "source": []
  }
 ],
 "metadata": {
  "kernelspec": {
   "display_name": "Python 3",
   "language": "python",
   "name": "python3"
  },
  "language_info": {
   "codemirror_mode": {
    "name": "ipython",
    "version": 3
   },
   "file_extension": ".py",
   "mimetype": "text/x-python",
   "name": "python",
   "nbconvert_exporter": "python",
   "pygments_lexer": "ipython3",
   "version": "3.11.1"
  },
  "orig_nbformat": 4,
  "vscode": {
   "interpreter": {
    "hash": "5238573367df39f7286bb46f9ff5f08f63a01a80960060ce41e3c79b190280fa"
   }
  }
 },
 "nbformat": 4,
 "nbformat_minor": 2
}
